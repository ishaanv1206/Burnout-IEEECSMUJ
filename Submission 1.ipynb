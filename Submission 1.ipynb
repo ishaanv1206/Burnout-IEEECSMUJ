{
 "cells": [
  {
   "cell_type": "code",
   "execution_count": 2,
   "id": "ff9dfb6e-b7f3-49f4-9047-40c0cf21764e",
   "metadata": {},
   "outputs": [],
   "source": [
    "import pandas as pd\n",
    "import numpy as np\n",
    "import os\n",
    "import joblib\n",
    "from flaml import AutoML\n",
    "from sklearn.metrics import mean_squared_error, r2_score\n",
    "from sklearn.preprocessing import StandardScaler\n",
    "\n",
    "\n",
    "TARGET_COLUMN = \"Lap_Time_Seconds\"\n",
    "MODEL_DIR = \"flaml_motogp_model\"\n",
    "MAX_FEATURES = 15\n",
    "TRAIN_PATH = \"train.csv\"\n",
    "VAL_PATH = \"val.csv\"\n",
    "TEST_PATH = \"test.csv\"\n",
    "\n",
    "\n",
    "DROP_COLS = [\"Unique ID\", \"Rider_name\", \"Team_name\", \"Bike_name\", \"Shortname\", \"Circuit_name\"]\n",
    "ID_COL = \"Unique ID\"\n",
    "\n",
    "def load_data(path):\n",
    "    df = pd.read_csv(path)\n",
    "    print(f\"Loaded {path} with shape {df.shape}\")\n",
    "    return df"
   ]
  },
  {
   "cell_type": "code",
   "execution_count": 3,
   "id": "9bebbbb9-5e2a-4393-8059-bb1251b09eac",
   "metadata": {},
   "outputs": [],
   "source": [
    "\n",
    "def preprocess(df, target_col=None):\n",
    "    df = df.copy()\n",
    "    df.columns = df.columns.str.strip()\n",
    "\n",
    "    \n",
    "    for col in DROP_COLS:\n",
    "        if col in df.columns:\n",
    "            df.drop(columns=col, inplace=True)\n",
    "\n",
    "    \n",
    "    if target_col and target_col in df.columns:\n",
    "        target = df[target_col]\n",
    "    else:\n",
    "        target = None\n",
    "\n",
    "    \n",
    "    for col in df.select_dtypes(include='object').columns:\n",
    "        try:\n",
    "            df[col] = pd.to_numeric(df[col])\n",
    "        except:\n",
    "            df[col] = df[col].astype('category').cat.codes\n",
    "\n",
    "    \n",
    "    df.fillna(df.median(numeric_only=True), inplace=True)\n",
    "\n",
    "    if target is not None:\n",
    "        df[target_col] = target\n",
    "\n",
    "    return df"
   ]
  },
  {
   "cell_type": "code",
   "execution_count": null,
   "id": "523ef819-e68d-459a-b0fc-6d0253c27863",
   "metadata": {},
   "outputs": [],
   "source": [
    "def train_flaml(X, y):\n",
    "    automl = AutoML()\n",
    "    settings = {\n",
    "        \"time_budget\": 300,  \n",
    "        \"metric\": 'rmse',\n",
    "        \"task\": 'regression',\n",
    "        \"log_file_name\": \"motogp_flaml.log\",\n",
    "    }\n",
    "    automl.fit(X_train=X, y_train=y, **settings)\n",
    "    return automl"
   ]
  },
  {
   "cell_type": "code",
   "execution_count": 5,
   "id": "6b1c50e5-67e3-46b0-b44c-4e255aa3fbeb",
   "metadata": {},
   "outputs": [],
   "source": [
    "def save_model(automl, scaler, feature_order):\n",
    "    os.makedirs(MODEL_DIR, exist_ok=True)\n",
    "    joblib.dump((automl, scaler), os.path.join(MODEL_DIR, \"model.pkl\"))\n",
    "    with open(os.path.join(MODEL_DIR, \"features.txt\"), 'w') as f:\n",
    "        for feat in feature_order:\n",
    "            f.write(f\"{feat}\\n\")\n"
   ]
  },
  {
   "cell_type": "code",
   "execution_count": 6,
   "id": "f88404dd-d57d-48e0-a781-60e140ad5d85",
   "metadata": {},
   "outputs": [],
   "source": [
    "def load_model():\n",
    "    model, scaler = joblib.load(os.path.join(MODEL_DIR, \"model.pkl\"))\n",
    "    with open(os.path.join(MODEL_DIR, \"features.txt\"), 'r') as f:\n",
    "        feature_order = [line.strip() for line in f.readlines()]\n",
    "    return model, scaler, feature_order"
   ]
  },
  {
   "cell_type": "code",
   "execution_count": 7,
   "id": "355fb553-5995-4c00-9303-dc163a8142ef",
   "metadata": {},
   "outputs": [],
   "source": [
    "def evaluate(model, X, y):\n",
    "    preds = model.predict(X)\n",
    "    rmse = mean_squared_error(y, preds)\n",
    "    r2 = r2_score(y, preds)\n",
    "    print(f\"RMSE: {rmse:.4f}\")\n",
    "    print(f\"R² Score: {r2:.4f}\")"
   ]
  },
  {
   "cell_type": "code",
   "execution_count": 17,
   "id": "5a130695-c004-4d7c-a84f-5503c3d11e5f",
   "metadata": {},
   "outputs": [],
   "source": [
    "def main():\n",
    "    print(\"Loading training data : \")\n",
    "    train_df = load_data(TRAIN_PATH)\n",
    "    train_df = preprocess(train_df, TARGET_COLUMN)\n",
    "\n",
    "    y_train = train_df[TARGET_COLUMN]\n",
    "    X_train = train_df.drop(columns=[TARGET_COLUMN])\n",
    "    scaler = StandardScaler()\n",
    "    X_train_scaled = scaler.fit_transform(X_train)\n",
    "\n",
    "    print(\"Training FLAML model : \")\n",
    "    model = train_flaml(X_train_scaled, y_train)\n",
    "    save_model(model, scaler, X_train.columns)\n",
    "\n",
    "    print(\"Model trained and saved.\")\n",
    "\n",
    "    print(\"Validating on validation data : \")\n",
    "    val_df = load_data(VAL_PATH)\n",
    "    val_df = preprocess(val_df, TARGET_COLUMN)\n",
    "    y_val = val_df[TARGET_COLUMN]\n",
    "    X_val = val_df.drop(columns=[TARGET_COLUMN])\n",
    "    X_val_scaled = scaler.transform(X_val)\n",
    "    evaluate(model, X_val_scaled, y_val)\n",
    "\n",
    "    print(\"Predicting on test data. : \")\n",
    "    test_df = load_data(TEST_PATH)\n",
    "    test_processed = preprocess(test_df)\n",
    "    for col in X_train.columns:\n",
    "        if col not in test_processed.columns:\n",
    "            test_processed[col] = 0\n",
    "    test_processed = test_processed[X_train.columns]\n",
    "    X_test_scaled = scaler.transform(test_processed)\n",
    "\n",
    "    preds = model.predict(X_test_scaled)\n",
    "\n",
    "\n",
    "    result_df = pd.DataFrame({\n",
    "        \"Unique ID\": test_df[\"Unique ID\"],\n",
    "        \"Lap_Time_Seconds_Predicted\": preds\n",
    "    })\n",
    "\n",
    "    result_df.to_csv(\"final_predictions.csv\", index=False)\n",
    "    print(\"Final predictions saved to 'final_predictions.csv'\")\n"
   ]
  },
  {
   "cell_type": "code",
   "execution_count": null,
   "id": "76cef873-74bd-4702-9637-8bb1dec55c75",
   "metadata": {},
   "outputs": [],
   "source": [
    "if __name__ == \"__main__\":\n",
    "    main()"
   ]
  },
  {
   "cell_type": "code",
   "execution_count": null,
   "id": "90ba248b-a8b1-4867-9887-b249a5253061",
   "metadata": {},
   "outputs": [],
   "source": []
  }
 ],
 "metadata": {
  "kernelspec": {
   "display_name": "Python 3 (ipykernel)",
   "language": "python",
   "name": "python3"
  },
  "language_info": {
   "codemirror_mode": {
    "name": "ipython",
    "version": 3
   },
   "file_extension": ".py",
   "mimetype": "text/x-python",
   "name": "python",
   "nbconvert_exporter": "python",
   "pygments_lexer": "ipython3",
   "version": "3.12.8"
  }
 },
 "nbformat": 4,
 "nbformat_minor": 5
}
